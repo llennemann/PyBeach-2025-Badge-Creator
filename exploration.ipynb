{
 "cells": [
  {
   "cell_type": "code",
   "execution_count": null,
   "id": "44d22f49-76fa-47c0-a7d6-13dde08dfc79",
   "metadata": {},
   "outputs": [],
   "source": [
    "!pip install reportlab\n",
    "!pip install svglib"
   ]
  },
  {
   "cell_type": "code",
   "execution_count": null,
   "id": "c504b77e-1fa8-4fa4-9c0d-0beded21a060",
   "metadata": {},
   "outputs": [],
   "source": [
    "import pandas as pd\n",
    "import re\n",
    "\n",
    "from reportlab.lib.pagesizes import LETTER\n",
    "from reportlab.pdfgen import canvas\n",
    "from reportlab.lib.colors import black, HexColor, white, grey\n",
    "from reportlab.graphics import renderPDF"
   ]
  },
  {
   "cell_type": "code",
   "execution_count": null,
   "id": "b1a980d0-883c-4653-a3ba-e97e6b2c0f4a",
   "metadata": {},
   "outputs": [],
   "source": [
    "# goal: generate PDF files pre-filled with information. Write a script to do all of the conditional formatting for \n",
    "# each attendee's badge and render it into a PDF document. This would be things like filling in their name, \n",
    "# company, pronouns, photo release indication, etc... based on a CSV dump of the data from the ticketing provider"
   ]
  },
  {
   "cell_type": "code",
   "execution_count": null,
   "id": "2785dd6f-02ca-4f2a-9cb2-dc34c27bb8ef",
   "metadata": {},
   "outputs": [],
   "source": [
    "df = pd.read_csv(\"tito-export-format.csv\")"
   ]
  },
  {
   "cell_type": "code",
   "execution_count": null,
   "id": "e7d49929-4e4e-4107-a3d8-f94430fe7beb",
   "metadata": {},
   "outputs": [],
   "source": [
    "df.columns"
   ]
  },
  {
   "cell_type": "code",
   "execution_count": null,
   "id": "85f1d96d-4558-44d9-a5fb-73fe01e70f5f",
   "metadata": {},
   "outputs": [],
   "source": [
    "df['Ticket'].unique()"
   ]
  },
  {
   "cell_type": "code",
   "execution_count": null,
   "id": "223df44c-404f-497a-8fa8-7601fc2f7488",
   "metadata": {},
   "outputs": [],
   "source": [
    "# ignore ticket type = Donate to PyBeach, which are donations\n",
    "df_filtered = df[df['Ticket'] != 'Donate to PyBeach']"
   ]
  },
  {
   "cell_type": "code",
   "execution_count": null,
   "id": "4cb5a4f9-b174-4017-8ee9-bd893081e0d4",
   "metadata": {},
   "outputs": [],
   "source": [
    "df_filtered['Photo opt-out'].unique()"
   ]
  },
  {
   "cell_type": "code",
   "execution_count": null,
   "id": "ffb5924f-7086-4a2c-9a12-aec437ef60e7",
   "metadata": {},
   "outputs": [],
   "source": [
    "# ignore df rows where photo opt-out is null\n",
    "df_filtered = df[df['Photo opt-out'].notna()]"
   ]
  },
  {
   "cell_type": "code",
   "execution_count": null,
   "id": "05e72cd5-f64b-431d-a9bf-8fb3d9e9354d",
   "metadata": {},
   "outputs": [],
   "source": [
    "# reset index\n",
    "df_filtered = df_filtered.reset_index()"
   ]
  },
  {
   "cell_type": "code",
   "execution_count": null,
   "id": "1b874792-2f02-4f09-9a6b-e7f4a499612a",
   "metadata": {},
   "outputs": [],
   "source": [
    "df_filtered['Number'].unique()"
   ]
  },
  {
   "cell_type": "code",
   "execution_count": null,
   "id": "76772298-469a-4d82-bc38-1525e2fffdc7",
   "metadata": {},
   "outputs": [],
   "source": [
    "df_filtered['Photo opt-out'].unique()"
   ]
  },
  {
   "cell_type": "code",
   "execution_count": null,
   "id": "860d7e91-2e51-4b29-8c34-d7826bcfaecd",
   "metadata": {},
   "outputs": [],
   "source": [
    "df_filtered['Attendee'] = 'Attendee'"
   ]
  },
  {
   "cell_type": "code",
   "execution_count": null,
   "id": "c7f5db44-ffaa-4430-a293-930dee49f96a",
   "metadata": {},
   "outputs": [],
   "source": [
    "def return_fontsize_that_fits(badge_width, text, font_size):\n",
    "    text_width = stringWidth(text, 'Helvetica', font_size)\n",
    "    while text_width > badge_width:\n",
    "        font_size -= 3\n",
    "        text_width = stringWidth(text, 'Helvetica', font_size)\n",
    "    return font_size\n",
    "\n",
    "def standardize_pronouns(pronoun_str):\n",
    "    if \"/\" in pronoun_str:\n",
    "        pronouns = pronoun_str.split(\"/\")\n",
    "    else:\n",
    "        pronouns = [pronoun_str]\n",
    "\n",
    "    pronouns = [pro.lower().strip() for pro in pronouns]\n",
    "    final_list = []\n",
    "    \n",
    "    if 'he' in pronouns or 'him' in pronouns or 'his' in pronouns:\n",
    "        final_list.append('he')\n",
    "    if 'she' in pronouns or 'her' in pronouns or 'hers' in pronouns:\n",
    "        final_list.append('she')\n",
    "    if 'they' in pronouns or 'them' in pronouns or 'theirs' in pronouns or 'their' in pronouns:\n",
    "        final_list.append('they')\n",
    "\n",
    "    # only she:\n",
    "    if len(final_list) == 1:\n",
    "        if final_list[0] == 'he':\n",
    "            return 'He / Him'\n",
    "        elif final_list[0] == 'she':\n",
    "            return 'She / Hers'\n",
    "        else:\n",
    "            return 'They / Them'\n",
    "    else:\n",
    "        final = \"\"\n",
    "        for item in final_list:\n",
    "            final += item.capitalize() + \" / \"\n",
    "        return final[:-2]\n",
    "    \n",
    "def format_pronouns(pronoun_str):\n",
    "    cleaned = \" \".join(pronoun_str.split())\n",
    "    cleaned = re.sub(r\"\\s*/\\s*\", \" / \", cleaned)\n",
    "    formatted = \" \".join(word.capitalize() for word in cleaned.split())\n",
    "    return formatted"
   ]
  },
  {
   "cell_type": "code",
   "execution_count": null,
   "id": "536ca02a-e28f-41b3-9a77-85bf05b31501",
   "metadata": {},
   "outputs": [],
   "source": [
    "standardize_pronouns('He / him')"
   ]
  },
  {
   "cell_type": "code",
   "execution_count": null,
   "id": "16fe97a7-c26e-47dd-a2eb-a1f5a779b7ac",
   "metadata": {},
   "outputs": [],
   "source": [
    "from svglib.svglib import svg2rlg\n",
    "\n",
    "badge_count = 0\n",
    "badge_width = 4 * 72    # 2 inches\n",
    "badge_height = 2.875 * 72   # 3 inches\n",
    "width, height = LETTER\n",
    "# 10 point margin on sides, 20 point on top bottom\n",
    "badge_xys = [\n",
    "    (10, 565),   # top left\n",
    "    (316, 565), # top right\n",
    "    (10, 338),   # middle left\n",
    "    (316, 338), # middle right\n",
    "    (10, 111),   # bottom left\n",
    "    (316, 111)  # bottom right\n",
    "]\n",
    "\n",
    "# starting canvas\n",
    "output_path = \"badges_0.pdf\"\n",
    "c = canvas.Canvas(output_path, pagesize=LETTER)\n",
    "\n",
    "for index, row in df_filtered.iterrows():\n",
    "    if badge_count == 6:\n",
    "        c.save()\n",
    "        print(f\"PDF saved to {output_path}\")\n",
    "        output_path = \"badges_\" + str(index) + \".pdf\"\n",
    "        # start a new sheet of badges\n",
    "        c = canvas.Canvas(output_path, pagesize=LETTER)\n",
    "        c.setFillColor(black)\n",
    "        badge_count = 0\n",
    "    name = row[\"What name would you like printed on your badge?\"]\n",
    "    if pd.isna(name):\n",
    "        print(f'Error with row {index}: name is empty')\n",
    "        continue\n",
    "    if pd.isna(row['Number']):\n",
    "        print(f'Error with row {index}: number is empty')\n",
    "        continue\n",
    "    \n",
    "    # top left for the badge\n",
    "    # 20 point margins\n",
    "    x = badge_xys[badge_count][0]\n",
    "    y = badge_xys[badge_count][1]\n",
    "    \n",
    "    # photo opt-out icon: top left\n",
    "    if row['Photo opt-out'] == 'Opt-out':\n",
    "        # c.drawImage('camera.png', x + 4, y + badge_height - 50, width=50, height=50, mask='auto')\n",
    "        drawing = svg2rlg('no-photos.svg')\n",
    "        logo_size = 50\n",
    "        scale = min(logo_size / drawing.width, logo_size / drawing.height)\n",
    "        drawing.width *= scale\n",
    "        drawing.height *= scale\n",
    "        drawing.scale(scale, scale)\n",
    "        renderPDF.draw(drawing, c, x + 4, y + badge_height - 50)\n",
    "    \n",
    "    # pronouns: top right\n",
    "    pronouns_option = row['Would you like your pronouns printed on your badge?']\n",
    "    if pd.isna(pronouns_option) or pronouns_option == 'Yes':\n",
    "        pronouns = row['Pronouns']\n",
    "        # could be None\n",
    "        if not pd.isna(pronouns) and pronouns != \"-\":\n",
    "            c.setFont(\"Helvetica\", 13)\n",
    "            c.setFillColor(black)\n",
    "            c.drawRightString(x + badge_width - 4, y + badge_height - 8, pronouns)\n",
    "\n",
    "    drawing = svg2rlg('pybeach2025-fullcolor.svg')\n",
    "    logo_size = 72\n",
    "    scale = min(logo_size / drawing.width, logo_size / drawing.height)\n",
    "    drawing.width *= scale\n",
    "    drawing.height *= scale\n",
    "    drawing.scale(scale, scale)\n",
    "\n",
    "    renderPDF.draw(drawing, c, x + (badge_width - logo_size) / 2, y + badge_height - logo_size - 10)\n",
    "    # name: center\n",
    "    # clean up spacing in name\n",
    "    cleaned_name = re.sub(r\"\\s+\", \" \", name).strip()\n",
    "    font_size = return_fontsize_that_fits(badge_width, cleaned_name, 20)\n",
    "    c.setFont(\"Helvetica-Bold\", font_size)\n",
    "    c.setFillColor(black)\n",
    "    # c.drawCentredString(x + badge_width / 2, ((y + badge_height - logo_size - 10) + 130) / 2, cleaned_name)\n",
    "\n",
    "    # Company name should only be printed on Corporate and Early Bird Corporate badges\n",
    "    # options: nothing, just company, just title, or both\n",
    "    typ = row[\"Ticket\"]\n",
    "    company = \"\"\n",
    "    if typ == 'Early Bird Corporate' or typ == 'Corporate':\n",
    "        company_name = row[\"Ticket Company Name\"]\n",
    "        company = company_name\n",
    "        if not pd.isna(row[\"Ticket Job Title\"]):\n",
    "            title = row[\"Ticket Job Title\"]\n",
    "            company = f\"{title}, \" + company\n",
    "    else:\n",
    "        if not pd.isna(row[\"Ticket Job Title\"]):\n",
    "            title = row[\"Ticket Job Title\"]\n",
    "            company = f\"{title} \" + company\n",
    "\n",
    "    if company == \"\":\n",
    "        name_y = y + badge_height - 125\n",
    "    else:\n",
    "        name_y = y + badge_height - 110\n",
    "        # else: empty line\n",
    "    \n",
    "    cleaned_name = re.sub(r\"\\s+\", \" \", name).strip()\n",
    "    font_size = return_fontsize_that_fits(badge_width, cleaned_name, 20)\n",
    "    c.setFont(\"Helvetica-Bold\", font_size)\n",
    "    c.setFillColor(black)\n",
    "    c.drawCentredString(x + badge_width / 2, name_y, cleaned_name)\n",
    "\n",
    "    if company != \"\":\n",
    "        job_font_size = return_fontsize_that_fits(badge_width, company, 14)\n",
    "        c.setFont(\"Helvetica\", job_font_size)\n",
    "        c.setFillColor(black)\n",
    "        c.drawCentredString(x + badge_width / 2, y + badge_height - 130, company)\n",
    "\n",
    "    \n",
    "    \n",
    "\n",
    "    #     job_title = row[\"Ticket Job Title\"]\n",
    "    # if not pd.isna(job_title):\n",
    "    #     line = line - 20\n",
    "    #     c.drawString(100, line, f\"Job Title: {job_title}\")\n",
    "    event = 'PyBeach | September 27, 2025' \n",
    "    c.setFillColor(grey)\n",
    "    c.setFont(\"Helvetica\", 13)\n",
    "    c.drawCentredString(x + badge_width / 2, y + badge_height - 165, event)\n",
    "\n",
    "    if not pd.isna(row[\"Attendee\"]):\n",
    "        ribbon_height = 25\n",
    "        c.setFillColor(HexColor(\"#337ab7\"))\n",
    "        c.rect(x, y + 5, badge_width, ribbon_height, stroke=0, fill=1)\n",
    "        c.setFillColor(white)\n",
    "        c.setFont(\"Helvetica-Bold\", 14)\n",
    "        c.drawCentredString(x + badge_width / 2, y + 12, row[\"Attendee\"])\n",
    "    else:\n",
    "        print(f'Warning: {name} does not have a value for Attendee column.')\n",
    "    \n",
    "    badge_count += 1\n",
    "# save any remaining canvas\n",
    "c.save()\n",
    "print(f\"PDF saved to {output_path}\")"
   ]
  },
  {
   "cell_type": "code",
   "execution_count": null,
   "id": "07baafdc-8009-41ec-baec-72e28ff09c52",
   "metadata": {},
   "outputs": [],
   "source": []
  }
 ],
 "metadata": {
  "kernelspec": {
   "display_name": "Python 3 (ipykernel)",
   "language": "python",
   "name": "python3"
  },
  "language_info": {
   "codemirror_mode": {
    "name": "ipython",
    "version": 3
   },
   "file_extension": ".py",
   "mimetype": "text/x-python",
   "name": "python",
   "nbconvert_exporter": "python",
   "pygments_lexer": "ipython3",
   "version": "3.11.9"
  }
 },
 "nbformat": 4,
 "nbformat_minor": 5
}
